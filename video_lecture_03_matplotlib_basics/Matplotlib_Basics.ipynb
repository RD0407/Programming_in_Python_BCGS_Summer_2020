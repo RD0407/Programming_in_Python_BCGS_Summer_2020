{
 "cells": [
  {
   "cell_type": "markdown",
   "metadata": {},
   "source": [
    "# Matplotlib - Basics"
   ]
  },
  {
   "cell_type": "markdown",
   "metadata": {},
   "source": [
    "This notebook accompanies the mandatory Video lecture *matplotlib basics*."
   ]
  },
  {
   "cell_type": "markdown",
   "metadata": {},
   "source": [
    "## Working with examples from the `matplotlib` gallery"
   ]
  },
  {
   "cell_type": "markdown",
   "metadata": {},
   "source": [
    "To work on / modify an example from the [matplotlib gallery](https://matplotlib.org/gallery.html), just grab the link from a gallery source and load it into a cell with the `%load` command."
   ]
  },
  {
   "cell_type": "code",
   "execution_count": 1,
   "metadata": {},
   "outputs": [],
   "source": [
    "# Here a simple gallery example\n",
    "%load https://matplotlib.org/mpl_examples/lines_bars_and_markers/fill_demo.py"
   ]
  },
  {
   "cell_type": "markdown",
   "metadata": {},
   "source": [
    "## Simple line plots"
   ]
  },
  {
   "cell_type": "markdown",
   "metadata": {},
   "source": [
    "The following cells were covered extensively in the video lecture."
   ]
  },
  {
   "cell_type": "code",
   "execution_count": 1,
   "metadata": {},
   "outputs": [],
   "source": [
    "%matplotlib inline\n",
    "import numpy as np\n",
    "import matplotlib.pyplot as plt"
   ]
  },
  {
   "cell_type": "code",
   "execution_count": 2,
   "metadata": {},
   "outputs": [],
   "source": [
    "# day of COVID-19 pandemy\n",
    "days = np.array([ 0,  1,  2,  3,  4,  5,  6,  7,  8,  9, 10, 11, 12, 13, 14])\n",
    "\n",
    "# new COVID-19 cases for Germany per day\n",
    "ger = np.array([  54,   18,   28,   39,   66,  138,  284,  163,   55,  237,  157,\n",
    "        271,  802,  693,  733])\n",
    "\n",
    "# total number of COVID-19 cases per day\n",
    "tot_ger = np.cumsum(ger)\n",
    "\n",
    "# The same for France and Italy\n",
    "fra = np.array([  43,   30,   48,   34,   73,  138,  190,  103,  410,  286,  372,\n",
    "        497,  595,  785,  838])\n",
    "tot_fra = np.cumsum(fra)\n",
    "\n",
    "ita = np.array([ 240,  561,  347,  466,  587,  769,  778, 1247, 1492, 1797,  977,\n",
    "       2313, 2651, 2547, 3497])\n",
    "tot_ita = np.cumsum(ita)"
   ]
  },
  {
   "cell_type": "code",
   "execution_count": 3,
   "metadata": {},
   "outputs": [
    {
     "data": {
      "image/png": "[encoded data removed]",
      "text/plain": [
       "<Figure size 432x288 with 1 Axes>"
      ]
     },
     "metadata": {
      "needs_background": "light"
     },
     "output_type": "display_data"
    }
   ],
   "source": [
    "#plt.figure(linewidth=10, edgecolor=\"black\")\n",
    "#plt.xkcd()\n",
    "\n",
    "# Note: A format string must be set directly after the y-axis\n",
    "# array!\n",
    "# plt.plot(days, tot_ger, \"--r\", label=\"Germany\")\n",
    "plt.plot(days, tot_ger, label=\"Germany\")\n",
    "plt.plot(days, tot_fra, label=\"France\")\n",
    "\n",
    "plt.xlabel(\"day\")\n",
    "plt.ylabel(\"cumulated cases\")\n",
    "plt.title(\"COVID-19 development\")\n",
    "\n",
    "#plt.grid(True)\n",
    "plt.legend()\n",
    "\n",
    "plt.tight_layout()\n",
    "\n",
    "#plt.savefig('covid-19_tight.png', edgecolor=\"black\")\n",
    "\n",
    "#necessary in a script\n",
    "plt.show()"
   ]
  },
  {
   "cell_type": "code",
   "execution_count": null,
   "metadata": {},
   "outputs": [],
   "source": [
    "# show available matplotlib styles\n",
    "plt.style.available"
   ]
  },
  {
   "cell_type": "markdown",
   "metadata": {},
   "source": [
    "## Notes"
   ]
  },
  {
   "cell_type": "markdown",
   "metadata": {},
   "source": [
    "- The page with the plot formating-strings is [here](https://matplotlib.org/3.2.1/api/_as_gen/matplotlib.pyplot.plot.html). Scroll down the page.\n",
    "- Note that you can also write linestyles with names instead of cryptic format string identifies, e.g. you can use `linestyle=\"dashed` instead of `linestyle=\"--\"`; see [this page](https://matplotlib.org/3.1.0/gallery/lines_bars_and_markers/linestyles.html) for more information. This was not cevered in the video.\n",
    "- An image showing the `matplotlib` default colors for simple plots is [base_colors.png](figs/base_colors.png). Standard colours sufficient for most applications are shown in [standard_colors.png](figs/standard_colors.png) and *all available* named colors are displyed in [all_colors.png](figs/all_colors.png). You can find the script with that I created these figures [here](scripts/available_colors.py).\n",
    "- I have written a script with which you can determine the name of a color that most closely matches a color given as a HEX-code. You can find it [here](scripts/hex_color_named_color.py)."
   ]
  }
 ],
 "metadata": {
  "kernelspec": {
   "display_name": "Python 3",
   "language": "python",
   "name": "python3"
  },
  "language_info": {
   "codemirror_mode": {
    "name": "ipython",
    "version": 3
   },
   "file_extension": ".py",
   "mimetype": "text/x-python",
   "name": "python",
   "nbconvert_exporter": "python",
   "pygments_lexer": "ipython3",
   "version": "3.7.7"
  }
 },
 "nbformat": 4,
 "nbformat_minor": 4
}
