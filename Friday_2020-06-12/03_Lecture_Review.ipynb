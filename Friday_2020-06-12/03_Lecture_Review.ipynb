{
 "cells": [
  {
   "cell_type": "markdown",
   "metadata": {},
   "source": [
    "# Review Tasks for the lecture"
   ]
  },
  {
   "cell_type": "markdown",
   "metadata": {},
   "source": [
    "Here some small tasks with that you should be able to do directly after the lecture. I strongly advise you to look at them before the exercise. It gives you the opportunity to check what you did not yet understand and to ask your tutor in the case of problems."
   ]
  },
  {
   "cell_type": "markdown",
   "metadata": {},
   "source": [
    "## Review tasks on numpy-braodcasting"
   ]
  },
  {
   "cell_type": "markdown",
   "metadata": {},
   "source": [
    "### Results of broadcasting operations"
   ]
  },
  {
   "cell_type": "markdown",
   "metadata": {},
   "source": [
    "**Please try to answer the following questions before executing any code. Do this only to verify your answers and use appropriate help-utilities if you are uncertain! For each problem you should be able to explain WHY you obtain a certain result!**"
   ]
  },
  {
   "cell_type": "markdown",
   "metadata": {},
   "source": [
    "- What is the output of the follwing code?\n",
    "  ```\n",
    "  import numpy as np\n",
    "  \n",
    "  a = np.ones(30).reshape((5, 6))\n",
    "\n",
    "  b = np.arange(6)\n",
    "  c = np.arange(5)\n",
    "  \n",
    "  print(a + b)\n",
    "  print(a + c)\n",
    "  ```"
   ]
  },
  {
   "cell_type": "markdown",
   "metadata": {},
   "source": [
    "- What is the output of the follwing code? If you obtain an error, then correct the code.\n",
    "  ```\n",
    "  import numpy as np\n",
    "  \n",
    "  a = np.ones(5).reshape((5, 1))\n",
    "\n",
    "  b = np.arange(6)\n",
    "  c = np.arange(5)\n",
    "  \n",
    "  print(a + b)\n",
    "  print(a + c)\n",
    "  ```"
   ]
  },
  {
   "cell_type": "markdown",
   "metadata": {},
   "source": [
    "- Route 66 in the USA connects the cities Chicago, Springfield, Saint-Louis, Tulsa, Oklahoma City, Amarillo, Santa Fe, Albuquerque, Flagstaff and Los Angeles (see the following figure).\n",
    "  Explain what the variable `a` of the program below contains."
   ]
  },
  {
   "cell_type": "markdown",
   "metadata": {},
   "source": [
    "![route_66](figs/route66.png)"
   ]
  },
  {
   "cell_type": "code",
   "execution_count": null,
   "metadata": {},
   "outputs": [],
   "source": [
    "import numpy as np\n",
    "\n",
    "# The array mileposts gives the distance from Chicago to the other\n",
    "# cities on Route 66:\n",
    "mileposts = np.array([0, 198, 303, 736, 871, 1175, 1475, 1544, 1913, 2448])\n",
    "\n",
    "# Explain what a is containing. What meaning does each element\n",
    "# of the created matrix have?\n",
    "a = mileposts - mileposts[:, np.newaxis]\n",
    "print(a)"
   ]
  },
  {
   "cell_type": "markdown",
   "metadata": {},
   "source": [
    "### Array manipulation with broadcasting"
   ]
  },
  {
   "cell_type": "code",
   "execution_count": null,
   "metadata": {},
   "outputs": [],
   "source": [
    "import numpy as np\n",
    "\n",
    "a = np.arange(25).reshape((5, 5))\n",
    "b = np.array([1, 5, 10, 15, 20])\n",
    "# Divide each *row* of the array 'a' elementwise with the\n",
    "# array b\n",
    "\n",
    "# your solution here"
   ]
  },
  {
   "cell_type": "code",
   "execution_count": null,
   "metadata": {},
   "outputs": [],
   "source": [
    "import numpy as np\n",
    "\n",
    "a = np.arange(25).reshape((5, 5))\n",
    "b = np.array([1, 5, 10, 15, 20])\n",
    "# Divide each *column* of the array 'a' elementwise with the\n",
    "# array b\n",
    "\n",
    "# your solution here"
   ]
  },
  {
   "cell_type": "code",
   "execution_count": null,
   "metadata": {},
   "outputs": [],
   "source": [
    "import numpy as np\n",
    "\n",
    "a = np.arange(25).reshape((5, 5))\n",
    "# Obtain the mean of each row of the matrix and subtract that\n",
    "# mean from the respective rows\n",
    "\n",
    "# your solution here"
   ]
  },
  {
   "cell_type": "markdown",
   "metadata": {},
   "source": [
    "## Review tasks on tuples"
   ]
  },
  {
   "cell_type": "markdown",
   "metadata": {},
   "source": [
    "**Please try to answer the following task before executing any code**"
   ]
  },
  {
   "cell_type": "markdown",
   "metadata": {},
   "source": [
    "What is the output of the following code?\n",
    "\n",
    "```\n",
    "def double(x, y):\n",
    "    return 2 * x, 2 * y\n",
    "    \n",
    "a = 1\n",
    "b = 2\n",
    "a1, b1 = double(a, b)\n",
    "print(a1, b1)\n",
    "\n",
    "c = 10\n",
    "d = 20\n",
    "e = double(c, d)\n",
    "print(e)\n",
    "\n",
    "f, g = e\n",
    "\n",
    "print(type(e), type(f))\n",
    "```"
   ]
  },
  {
   "cell_type": "markdown",
   "metadata": {},
   "source": [
    "Watch the output of the following cell. Can you explain what the `*`-operator in the function argument is doing?"
   ]
  },
  {
   "cell_type": "code",
   "execution_count": null,
   "metadata": {},
   "outputs": [],
   "source": [
    "def double(x, y):\n",
    "    return 2 * x, 2 * y\n",
    "\n",
    "a = (1, 2)\n",
    "\n",
    "b = double(*a)\n",
    "print(b)"
   ]
  },
  {
   "cell_type": "markdown",
   "metadata": {},
   "source": [
    "What is the output of the following commands. If there is an error, correct it."
   ]
  },
  {
   "cell_type": "markdown",
   "metadata": {},
   "source": [
    "```\n",
    "def double(x, y):\n",
    "    return 2 * x, 2 * y\n",
    "    \n",
    "c = 10\n",
    "d = 20\n",
    "\n",
    "print(double(*double(c, d)))\n",
    "\n",
    "e = 10, 20\n",
    "print(double(e))\n",
    "```"
   ]
  },
  {
   "cell_type": "markdown",
   "metadata": {},
   "source": [
    "Describe in plain English what the following code is doing. You probably need to consult the documentation for some of the functions."
   ]
  },
  {
   "cell_type": "code",
   "execution_count": null,
   "metadata": {},
   "outputs": [],
   "source": [
    "%matplotlib inline\n",
    "import matplotlib.pyplot as plt\n",
    "import numpy as np\n",
    "\n",
    "ages = np.loadtxt(\"data/developer_survey_ages.txt\")\n",
    "\n",
    "values, bins, _ = plt.hist(ages)\n",
    "\n",
    "max_ind = np.argmax(values)\n",
    "maxval = values[max_ind]\n",
    "maxage = 0.5 * (bins[max_ind] + bins[max_ind + 1])\n",
    "print(maxval, maxage)"
   ]
  }
 ],
 "metadata": {
  "kernelspec": {
   "display_name": "Python 3",
   "language": "python",
   "name": "python3"
  },
  "language_info": {
   "codemirror_mode": {
    "name": "ipython",
    "version": 3
   },
   "file_extension": ".py",
   "mimetype": "text/x-python",
   "name": "python",
   "nbconvert_exporter": "python",
   "pygments_lexer": "ipython3",
   "version": "3.7.7"
  }
 },
 "nbformat": 4,
 "nbformat_minor": 4
}
