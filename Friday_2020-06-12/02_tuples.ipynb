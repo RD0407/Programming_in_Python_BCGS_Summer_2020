{
 "cells": [
  {
   "cell_type": "markdown",
   "metadata": {},
   "source": [
    "# Tuples"
   ]
  },
  {
   "cell_type": "markdown",
   "metadata": {},
   "source": [
    "Tuples are cousins of lists which are immutable!\n",
    "\n",
    "They are: ordered, heterogeneous, immutable\n",
    "\n",
    "They cannot be changed once they are created.\n",
    "Whenever you come across a tuple, it is clear in general, why it is an object that should not be changed."
   ]
  },
  {
   "cell_type": "code",
   "execution_count": null,
   "metadata": {},
   "outputs": [],
   "source": [
    "t = (1, 2, 3, 4)  # tuples live in parentheses\n",
    "print(type(t))\n",
    "print(t[1:3])     # slicing and all over other element accesses that do not change the tuple as for lists\n",
    "\n",
    "v = (1,)  # definition of a tuple with one element!\n",
    "print(v)\n",
    "print(type(v))\n",
    "\n",
    "u = 'a', 2.0, 5   # The parentheses can be ommitted for tuple creation!\n",
    "print(type(u))\n",
    "\n",
    "for elem in u:\n",
    "    print(elem)\n",
    "    \n",
    "u[1] = 'b' # This raises an error; tuples are immutable!"
   ]
  },
  {
   "cell_type": "markdown",
   "metadata": {},
   "source": [
    "## Tuples and simultaneous assignments"
   ]
  },
  {
   "cell_type": "markdown",
   "metadata": {},
   "source": [
    " Note the tuple-type in the following examples! Simultaneous assignment also con be considered as *unpacking tuples*."
   ]
  },
  {
   "cell_type": "code",
   "execution_count": null,
   "metadata": {},
   "outputs": [],
   "source": [
    "x, y = 1, 2   # simultaneous assigment to two variables\n",
    "print(type(x))\n",
    "\n",
    "z = 1, 2  # creation of a tuple!\n",
    "print(type(z))\n",
    "\n",
    "x, y = z  # The tuple in upacked!\n",
    "print(x, y)\n",
    "\n",
    "# This also works with lists:\n",
    "l = ['a', 'b']\n",
    "print(l)\n",
    "\n",
    "s, t = l\n",
    "print(s, t)"
   ]
  },
  {
   "cell_type": "markdown",
   "metadata": {},
   "source": [
    "Similarily for functions returning multiple return values. You can also interpret it as one return value which is a tuple!"
   ]
  },
  {
   "cell_type": "markdown",
   "metadata": {},
   "source": [
    "The following functions `xy2polar` and `polar2xy` were already discussed in a previous lecture."
   ]
  },
  {
   "cell_type": "code",
   "execution_count": null,
   "metadata": {},
   "outputs": [],
   "source": [
    "import numpy as np\n",
    "\n",
    "def xy2polar(x, y):\n",
    "    r = np.sqrt(x**2 + y**2)\n",
    "    phi = np.arctan2(y, x)\n",
    "    \n",
    "    return r, phi\n",
    "\n",
    "def polar2xy(r, phi):\n",
    "    x = r * np.cos(phi)\n",
    "    y = r * np.sin(phi)\n",
    "    \n",
    "    return x, y\n",
    "\n",
    "x, y = 1.0, 1.0\n",
    "\n",
    "r, phi = xy2polar(x, y)\n",
    "print(r, phi)\n",
    "\n",
    "c = xy2polar(x, y)\n",
    "print(c)"
   ]
  },
  {
   "cell_type": "markdown",
   "metadata": {},
   "source": [
    "## Example: Return values of `histogram`-function"
   ]
  },
  {
   "cell_type": "markdown",
   "metadata": {},
   "source": [
    "Within `matplotlib` plotting functions not only draw something but they also return results that can be processed further.\n",
    "\n",
    "We consider a histogram of the ages from participants of a [Developer Survey on StackOverflow](https://insights.stackoverflow.com/survey)."
   ]
  },
  {
   "cell_type": "code",
   "execution_count": null,
   "metadata": {},
   "outputs": [],
   "source": [
    "!head -10 data/developer_survey_ages.txt"
   ]
  },
  {
   "cell_type": "code",
   "execution_count": null,
   "metadata": {},
   "outputs": [],
   "source": [
    "%matplotlib inline\n",
    "import matplotlib.pyplot as plt\n",
    "import numpy as np\n",
    "\n",
    "ages = np.loadtxt(\"data/developer_survey_ages.txt\")\n",
    "\n",
    "plt.hist(ages)"
   ]
  },
  {
   "cell_type": "code",
   "execution_count": null,
   "metadata": {},
   "outputs": [],
   "source": [
    "# The hist function returns a tuple of three objects.\n",
    "# - The values of the bins\n",
    "# - The bin boundaries\n",
    "# - patches (unimportant)"
   ]
  }
 ],
 "metadata": {
  "kernelspec": {
   "display_name": "Python 3",
   "language": "python",
   "name": "python3"
  },
  "language_info": {
   "codemirror_mode": {
    "name": "ipython",
    "version": 3
   },
   "file_extension": ".py",
   "mimetype": "text/x-python",
   "name": "python",
   "nbconvert_exporter": "python",
   "pygments_lexer": "ipython3",
   "version": "3.7.7"
  }
 },
 "nbformat": 4,
 "nbformat_minor": 4
}
