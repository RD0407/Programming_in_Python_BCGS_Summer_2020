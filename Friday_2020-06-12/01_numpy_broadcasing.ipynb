{
 "cells": [
  {
   "cell_type": "markdown",
   "metadata": {},
   "source": [
    "# Broadcasting of `numpy`-arrays"
   ]
  },
  {
   "cell_type": "markdown",
   "metadata": {},
   "source": [
    "## Introduction"
   ]
  },
  {
   "cell_type": "markdown",
   "metadata": {},
   "source": [
    "- *All* operations on `numpy`-arrays are by default element-wise.\n",
    "- This trivially works for arrays with the same shape"
   ]
  },
  {
   "cell_type": "code",
   "execution_count": null,
   "metadata": {},
   "outputs": [],
   "source": [
    "import numpy as np\n",
    "\n",
    "a = np.arange(10)\n",
    "b = np.arange(10, 20)\n",
    "\n",
    "c = np.arange(25).reshape((5, 5))\n",
    "d = np.arange(25, 50).reshape((5,5))\n",
    "\n",
    "print(a, b)\n",
    "print(a + b)   # elementwise addition of elements\n",
    "\n",
    "print(c, d)\n",
    "print(c * d)   # elementwise multiplication\n",
    "\n",
    "print(a + d)   # Error: shapes do not match and the\n",
    "               # addition is not defined!"
   ]
  },
  {
   "cell_type": "markdown",
   "metadata": {},
   "source": [
    "- **However,** it is also possible to do `numpy`-operations on arrays of different\n",
    "shapes *if* NumPy can transform these arrays to the same shape: this conversion is called **broadcasting**.\n",
    "- You already used broadcasting in operations between arrays and scalars!"
   ]
  },
  {
   "cell_type": "code",
   "execution_count": null,
   "metadata": {},
   "outputs": [],
   "source": [
    "import numpy as np\n",
    "\n",
    "a = np.arange(4)\n",
    "\n",
    "print(a)\n",
    "print(a * 2)  # the '2' is broadcasted (stretched) to a (5,)-array\n",
    "\n",
    "b = np.arange(16).reshape((4,4))\n",
    "\n",
    "print(b)\n",
    "print(b * 2) # the '2' is broadcasted (stretched) to a (5,5)-array\n",
    "print(b + a) # the (5,)-array 'a' is broadcasted to a\n",
    "             # (5,5)-array"
   ]
  },
  {
   "cell_type": "markdown",
   "metadata": {},
   "source": [
    "## Practical Example: Bias correction of astronomical data\n",
    "\n",
    "- Optical astronomical data are a two-dimensional array of pixel values\n",
    "- Parts of the CCD is not illuminated during an exposure and hence provides *noisy* zero-level pixel values of an exposure. This part of a CCD is called *overscan region*\n",
    "- You need to estimate an overscan value per column/row (depending on where the overscan region is; see figure below) and subtract that value from the corresponding column/row of your science data.\n",
    "\n",
    "Effectively, we need to apply a lower-dimensional array (an overscan column/row) to a higher dimensional one (the science data). We somehow need to *stretch* the one-dimensional oversan values to a two-dimensional array so that an element-wise subtraction can be done.\n",
    "\n",
    "This is a typical application of `numpy`-array broadcasting"
   ]
  },
  {
   "cell_type": "markdown",
   "metadata": {},
   "source": [
    "![bias](figs/bias.png)"
   ]
  },
  {
   "cell_type": "code",
   "execution_count": null,
   "metadata": {},
   "outputs": [],
   "source": [
    "import numpy as np\n",
    "import numpy.random as nr\n",
    "\n",
    "# make sure that 'random numbers' are reproducible in the following:\n",
    "nr.seed(1)\n",
    "# create fake data with some overscan region (horizontal overscan lines)\n",
    "data_hor = nr.normal(loc=100, scale=1.0, size=40).reshape(10,4)\n",
    "overscan_hor = nr.normal(loc=10, scale=1.0, size=8).reshape(2,4)\n",
    "data_hor[-2:,:] = overscan_hor\n",
    "\n",
    "print(data_hor)\n",
    "\n",
    "# perform overscan correction (horizontal case)\n",
    "overscan = data_hor[-2:,:].mean(axis=0)\n",
    "data_corrected = data_hor - overscan\n",
    "# to document better the broadcasting, the previous line\n",
    "# is better written as\n",
    "# data_corrected = data_hor - overscan[np.newaxis,:]\n",
    "\n",
    "print(data_corrected)"
   ]
  },
  {
   "cell_type": "code",
   "execution_count": null,
   "metadata": {},
   "outputs": [],
   "source": [
    "print(data_hor.shape, overscan.shape)"
   ]
  },
  {
   "cell_type": "code",
   "execution_count": null,
   "metadata": {},
   "outputs": [],
   "source": [
    "import numpy as np\n",
    "import numpy.random as nr\n",
    "\n",
    "# make sure that 'random numbers' are reproducible in the following:\n",
    "nr.seed(1)\n",
    "# create fake data with some overscan region (vertical overscan column)\n",
    "data_ver = nr.normal(loc=100, scale=1.0, size=40).reshape(10,4)\n",
    "overscan_ver = nr.normal(loc=10, scale=1.0, size=20).reshape(10,2)\n",
    "data_ver[:,:2] = overscan_ver\n",
    "\n",
    "print(data_ver)\n",
    "\n",
    "# perform overscan correction (vertical case)\n",
    "overscan = data_ver[:,:2].mean(axis=1)\n",
    "data_corrected = data_ver - overscan[:, np.newaxis]\n",
    "print(data_corrected)"
   ]
  },
  {
   "cell_type": "code",
   "execution_count": null,
   "metadata": {},
   "outputs": [],
   "source": [
    "print(data_ver.shape, overscan.shape)"
   ]
  },
  {
   "cell_type": "markdown",
   "metadata": {},
   "source": [
    "## Formal definition of Broadcasting"
   ]
  },
  {
   "cell_type": "markdown",
   "metadata": {},
   "source": [
    "- Braodcasting consists of a set of rules that permit *element-wise* operations of arrays of different shapes.\n",
    "- Element-wise operations on arrays are only valid when the arrays' shapes are either equal or *compatible*.\n",
    "- To determine if two shapes are compatible, `numpy` compares their dimensions, starting with the trailing ones and working its way backwards. If two dimensions are equal, or if one of them equals 1, the comparison continues. If one of the dimensions in this case is 1 and the other is larger than 1, the smaller array is stretched *naturally* to match the bigger one. Otherwise, you'll see a ValueError raised (saying something like \"operands could not be broadcast together with shapes ...\").\n",
    "- When one of the shapes runs out of dimensions (because it has less dimensions than the other shape), `numpy` will use 1 in the comparison process until the other shape's dimensions run out as well.\n",
    "- Once `numpy` determines that two shapes are compatible, the shape of the result is simply the maximum of the two shapes' sizes in each dimension."
   ]
  },
  {
   "cell_type": "markdown",
   "metadata": {},
   "source": [
    "**Examples:**\n",
    "\n",
    "![braodcasting_1](figs/broadcasting_1.png)"
   ]
  },
  {
   "cell_type": "markdown",
   "metadata": {},
   "source": [
    "**Important:**\n",
    "\n",
    "The rules above are precise and complete!\n",
    "- Note that missing dimensions in one array can only be *left-padded*!\n",
    "- If you need to *right-pad* an array to make it compatible, you need to do this explicitely with a `np.newaxis` or a reshape command\n",
    "\n",
    "![broadcase_2](figs/broadcasting_2.png)"
   ]
  },
  {
   "cell_type": "code",
   "execution_count": null,
   "metadata": {},
   "outputs": [],
   "source": [
    "import numpy as np\n",
    "\n",
    "a = np.arange(10).reshape(2, 5)\n",
    "b = np.arange(2)\n",
    "\n",
    "# print(a + b) would not work!!\n",
    "# we need to manually 'right-pad' one dimension to\n",
    "# 'b' to make it broadcast-compatible with a:\n",
    "b = b.reshape((2, 1))\n",
    "# b = b[:, np.newaxis] # equivalent to the reshape command above\n",
    "print(a)\n",
    "print(b)\n",
    "print(a + b)"
   ]
  },
  {
   "cell_type": "markdown",
   "metadata": {},
   "source": [
    "## Example: Outer product of two vectors "
   ]
  },
  {
   "cell_type": "markdown",
   "metadata": {},
   "source": [
    "The outer product of two vectors $x\\in R^n$ and $y\\in R^n$ is defined as:\n",
    "$$\n",
    "xy^T = \\left(\\begin{array}{c}x_1 \\\\ x_2 \\\\ \\vdots \\\\ x_n \\end{array}\\right) \\left(y_1, y_2, \\dots, x_n\\right)=\n",
    "\\left(\\begin{array}{cccc}x_1y_1 & x_1y_2 & \\dots & x_1 y_n \\\\\n",
    "                         x_2y_1 & x_2y_2 & \\dots & x_2 y_n \\\\\n",
    "                         \\vdots & \\vdots & \\ddots & \\vdots \\\\\n",
    "                         x_ny_1 & x_2y_n & \\dots & x_n y_n \\\\\n",
    "                         \\end{array}\\right).\n",
    "$$\n",
    "The resulting matrix is in $R^{nxn}$"
   ]
  },
  {
   "cell_type": "code",
   "execution_count": null,
   "metadata": {},
   "outputs": [],
   "source": [
    "# The outer product of two vectors can be done easily\n",
    "# with a broadcasting operation\n",
    "x = np.array([1, 2, 3])\n",
    "y = np.array([4, 5, 6])\n",
    "\n",
    "print(x, y)\n",
    "print(x.shape, y.shape)\n",
    "\n",
    "# solution:\n",
    "outer_prod = x[:, np.newaxis] * y\n",
    "print(outer_prod)"
   ]
  }
 ],
 "metadata": {
  "kernelspec": {
   "display_name": "Python 3",
   "language": "python",
   "name": "python3"
  },
  "language_info": {
   "codemirror_mode": {
    "name": "ipython",
    "version": 3
   },
   "file_extension": ".py",
   "mimetype": "text/x-python",
   "name": "python",
   "nbconvert_exporter": "python",
   "pygments_lexer": "ipython3",
   "version": "3.7.7"
  }
 },
 "nbformat": 4,
 "nbformat_minor": 4
}
