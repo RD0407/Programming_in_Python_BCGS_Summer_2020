{
 "cells": [
  {
   "cell_type": "markdown",
   "metadata": {},
   "source": [
    "# Compound data types: Strings"
   ]
  },
  {
   "cell_type": "markdown",
   "metadata": {},
   "source": [
    "Strings are in `Python` a compund data-type similar to the `numpy`-arrays! The building block of a string are individual characters.\n",
    "\n",
    "- They are offered within the `str`-module which is automatically loaded when you start `python`. Besides the string data-type, the module contains functions to operate on strings.\n",
    "- Strings form a *homogeneous* array of individual characters."
   ]
  },
  {
   "cell_type": "code",
   "execution_count": 10,
   "metadata": {},
   "outputs": [],
   "source": [
    "# The module string is loaded automatically when you start a Python kernel.\n",
    "\n",
    "# The dir command shows you all available function/methods and variables\n",
    "# within a module\n",
    "#dir(str)\n",
    "\n",
    "# To obtain help on a specifiv function within str:\n",
    "#help(str.replace)"
   ]
  },
  {
   "cell_type": "code",
   "execution_count": 6,
   "metadata": {},
   "outputs": [
    {
     "name": "stdout",
     "output_type": "stream",
     "text": [
      "<class 'str'>\n",
      "12\n"
     ]
    }
   ],
   "source": [
    "message = \"Hello Thomas\"\n",
    "\n",
    "print(type(message))\n",
    "print(len(message))"
   ]
  },
  {
   "cell_type": "markdown",
   "metadata": {},
   "source": [
    "## Basic String creation"
   ]
  },
  {
   "cell_type": "markdown",
   "metadata": {},
   "source": [
    "Strings are mostly created manually or via format strings - see below."
   ]
  },
  {
   "cell_type": "code",
   "execution_count": null,
   "metadata": {},
   "outputs": [],
   "source": [
    "# Strings can be enclosed within single or double quotes.\n",
    "# Both are equivalent.\n",
    "message_1 = \"Hello Thomas\"\n",
    "message_2 = 'Hello World'\n",
    "\n",
    "print(message_1)\n",
    "print(message_2)"
   ]
  },
  {
   "cell_type": "code",
   "execution_count": null,
   "metadata": {},
   "outputs": [],
   "source": [
    "# The different quotes can be used to include the other quote within a string:\n",
    "message_1 = \"Bob's results are impressive.\"\n",
    "\n",
    "# another possibility is 'quoting' as in Linux:\n",
    "message_2 = 'Bob\\'s results are impressive.'\n",
    "\n",
    "print(message_1, message_2)"
   ]
  },
  {
   "cell_type": "code",
   "execution_count": null,
   "metadata": {},
   "outputs": [],
   "source": [
    "# multiline strings are created with triple quotes:\n",
    "message = \"\"\"This is a longer message\n",
    "over several lines.\"\"\"\n",
    "\n",
    "print(message)"
   ]
  },
  {
   "cell_type": "markdown",
   "metadata": {},
   "source": [
    "## Accessing string elements"
   ]
  },
  {
   "cell_type": "markdown",
   "metadata": {},
   "source": [
    "Accessing string elements is *equivalent* to the methods from `numpy`-arrays (element access, slicing)"
   ]
  },
  {
   "cell_type": "code",
   "execution_count": null,
   "metadata": {},
   "outputs": [],
   "source": [
    "m = \"Hello Thomas\"\n",
    "\n",
    "print(m[0], m[6])\n",
    "print(m[1:5])\n",
    "print(m[6:])"
   ]
  },
  {
   "cell_type": "markdown",
   "metadata": {},
   "source": [
    "**Attention:** Individual elements of a string cannot be changes once it has been created (strings are *immutable* objects)!"
   ]
  },
  {
   "cell_type": "code",
   "execution_count": null,
   "metadata": {},
   "outputs": [],
   "source": [
    "m = \"Hello Thomas\"\n",
    "m[0] = \"A\""
   ]
  },
  {
   "cell_type": "markdown",
   "metadata": {},
   "source": [
    "Also iteration works as for `numpy`-arrays."
   ]
  },
  {
   "cell_type": "code",
   "execution_count": null,
   "metadata": {},
   "outputs": [],
   "source": [
    "message = \"Hello World\"\n",
    "\n",
    "for char in message:\n",
    "    print(char)"
   ]
  },
  {
   "cell_type": "markdown",
   "metadata": {},
   "source": [
    "## String Operations"
   ]
  },
  {
   "cell_type": "markdown",
   "metadata": {},
   "source": [
    "There are two `mathematical` operators defined on strings: (1) Addition to concatenate string and multiplication with a number to repeat a string."
   ]
  },
  {
   "cell_type": "code",
   "execution_count": 12,
   "metadata": {},
   "outputs": [
    {
     "name": "stdout",
     "output_type": "stream",
     "text": [
      "Hello World\n",
      "HelloHello\n",
      "HelloHelloHello\n"
     ]
    }
   ],
   "source": [
    "# You can use '+' between two strings to concatenate them:\n",
    "m1 = \"Hello \"\n",
    "m2 = \"World\"\n",
    "\n",
    "print(m1 + m2)\n",
    "\n",
    "# multiplication with a number repeats a string\n",
    "m = \"Hello\"\n",
    "\n",
    "print(2 * m)\n",
    "print(m * 3)"
   ]
  },
  {
   "cell_type": "markdown",
   "metadata": {},
   "source": [
    "The `str`-module contains numerous functions on strings."
   ]
  },
  {
   "cell_type": "code",
   "execution_count": null,
   "metadata": {},
   "outputs": [],
   "source": [
    "message = \"Hello World!\"\n",
    "help(message.replace)"
   ]
  },
  {
   "cell_type": "code",
   "execution_count": null,
   "metadata": {},
   "outputs": [],
   "source": [
    "# create a new string from an old one substituting some string part with something else:\n",
    "message = \"Hello World!\"\n",
    "print(message)\n",
    "\n",
    "message.replace('World', 'Universe')\n",
    "#message = message.replace('World', 'Universe')\n",
    "\n",
    "print(message)"
   ]
  },
  {
   "cell_type": "markdown",
   "metadata": {},
   "source": [
    "**Note:** Read carefully the documentation on operations of compound data types! In general, they can either modifiy an exisitng object (*substitution in place*; not for strings as they are immutable) or create a new object."
   ]
  },
  {
   "cell_type": "code",
   "execution_count": null,
   "metadata": {},
   "outputs": [],
   "source": [
    "import numpy as np\n",
    "\n",
    "a = np.array([9, 8, 7, 6])\n",
    "\n",
    "help(a.sort)"
   ]
  },
  {
   "cell_type": "code",
   "execution_count": null,
   "metadata": {},
   "outputs": [],
   "source": [
    "import numpy as np\n",
    "\n",
    "a = np.array([9, 8, 7, 6])\n",
    "print(a)\n",
    "\n",
    "# The following command directly modifies 'a':\n",
    "a.sort()\n",
    "print(a)"
   ]
  },
  {
   "cell_type": "code",
   "execution_count": null,
   "metadata": {},
   "outputs": [],
   "source": [
    "help(a.sort)"
   ]
  },
  {
   "cell_type": "markdown",
   "metadata": {},
   "source": [
    "## Format Strings or f-strings"
   ]
  },
  {
   "cell_type": "markdown",
   "metadata": {},
   "source": [
    "Strings can be composed from substrings and concatenated with the `+`-operator. This is interesting to include values from variables into dynamic strings."
   ]
  },
  {
   "cell_type": "code",
   "execution_count": null,
   "metadata": {},
   "outputs": [],
   "source": [
    "file_name = \"test.txt\"\n",
    "error_code = 51\n",
    "\n",
    "m1 = \"I cannot read file \" + file_name + \".\"\n",
    "print(m1)\n",
    "\n",
    "# Note the conversion of the integer 51 to a string with\n",
    "# str():\n",
    "m1 = m1 + \" I quit with error code \" + str(error_code) + \".\"\n",
    "print(m1)"
   ]
  },
  {
   "cell_type": "markdown",
   "metadata": {},
   "source": [
    "Such string compositions can comfortable be done with format strings"
   ]
  },
  {
   "cell_type": "code",
   "execution_count": null,
   "metadata": {},
   "outputs": [],
   "source": [
    "file_name = \"test.txt\"\n",
    "error_code = 51\n",
    "\n",
    "m1 = f\"I cannot read file {file_name}. I quit with error code {error_code}.\"\n",
    "print(m1)"
   ]
  },
  {
   "cell_type": "markdown",
   "metadata": {},
   "source": [
    "See the appendix for some interesting additional possibilities to format numbers included in f-strings."
   ]
  },
  {
   "cell_type": "markdown",
   "metadata": {},
   "source": [
    "## Raw strings or r-strings"
   ]
  },
  {
   "cell_type": "markdown",
   "metadata": {},
   "source": [
    "*Raw* strings do not treat the backslash as a special character (masking). It is necessary to use them to label matplotlib plots with `LaTeX`-expressions."
   ]
  },
  {
   "cell_type": "code",
   "execution_count": null,
   "metadata": {},
   "outputs": [],
   "source": [
    "# \\n is a newline character (Linux)\n",
    "m1 = \"Thomas \\n Erben\"\n",
    "print(m1)\n",
    "\n",
    "# The r marks a 'raw' string:\n",
    "m2 = r\"Thomas \\n Erben\"\n",
    "print(m2)"
   ]
  },
  {
   "cell_type": "code",
   "execution_count": null,
   "metadata": {},
   "outputs": [],
   "source": [
    "%matplotlib inline\n",
    "import numpy as np\n",
    "import matplotlib.pyplot as plt\n",
    "\n",
    "x = np.linspace(0.2, 2.0 * np.pi, 100)\n",
    "y = 0.5 * np.sin(x) / x\n",
    "\n",
    "# Without using a raw string, the following\n",
    "# lines throws an error:\n",
    "plt.title(r'$\\frac {\\sin(x)}{x}$')\n",
    "plt.plot(x, y)"
   ]
  },
  {
   "cell_type": "markdown",
   "metadata": {},
   "source": [
    "# Appendix: Some useful options to format numbers in f-strings"
   ]
  },
  {
   "cell_type": "markdown",
   "metadata": {},
   "source": [
    "No formatting of the number"
   ]
  },
  {
   "cell_type": "code",
   "execution_count": null,
   "metadata": {},
   "outputs": [],
   "source": [
    "x = 2. / 3.\n",
    "\n",
    "f\"Two thirds are {x}\""
   ]
  },
  {
   "cell_type": "markdown",
   "metadata": {},
   "source": [
    "Round the float after the third digit."
   ]
  },
  {
   "cell_type": "code",
   "execution_count": null,
   "metadata": {},
   "outputs": [],
   "source": [
    "x = 2. / 3.\n",
    "\n",
    "# The 'f' stands for float.\n",
    "f\"Two thirds are {x:.3f}\""
   ]
  },
  {
   "cell_type": "markdown",
   "metadata": {},
   "source": [
    "Round the float after the third digit and print the whole number with a total length of 10."
   ]
  },
  {
   "cell_type": "code",
   "execution_count": null,
   "metadata": {},
   "outputs": [],
   "source": [
    "f\"Two thirds are {x:10.3f}\""
   ]
  },
  {
   "cell_type": "markdown",
   "metadata": {},
   "source": [
    "We can do something similar for integers (without the number of decimal places)"
   ]
  },
  {
   "cell_type": "code",
   "execution_count": null,
   "metadata": {},
   "outputs": [],
   "source": [
    "n = 42\n",
    "f\"The truth is {n:10d}\""
   ]
  },
  {
   "cell_type": "markdown",
   "metadata": {},
   "source": [
    "We can also add leading zeros"
   ]
  },
  {
   "cell_type": "code",
   "execution_count": null,
   "metadata": {},
   "outputs": [],
   "source": [
    "n = 42\n",
    "f\"The truth is {n:010d}\""
   ]
  },
  {
   "cell_type": "markdown",
   "metadata": {},
   "source": [
    "or align to the left"
   ]
  },
  {
   "cell_type": "code",
   "execution_count": null,
   "metadata": {},
   "outputs": [],
   "source": [
    "n = 42\n",
    "f\"The truth is {n:<10d}. This we must accept!\""
   ]
  }
 ],
 "metadata": {
  "kernelspec": {
   "display_name": "Python 3",
   "language": "python",
   "name": "python3"
  },
  "language_info": {
   "codemirror_mode": {
    "name": "ipython",
    "version": 3
   },
   "file_extension": ".py",
   "mimetype": "text/x-python",
   "name": "python",
   "nbconvert_exporter": "python",
   "pygments_lexer": "ipython3",
   "version": "3.7.7"
  }
 },
 "nbformat": 4,
 "nbformat_minor": 4
}
