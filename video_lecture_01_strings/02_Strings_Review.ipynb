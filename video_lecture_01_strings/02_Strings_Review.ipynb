{
 "cells": [
  {
   "cell_type": "markdown",
   "metadata": {},
   "source": [
    "# Review Tasks for Python strings"
   ]
  },
  {
   "cell_type": "markdown",
   "metadata": {},
   "source": [
    "Here some small tasks with that you should be able to do directly after watching the video lecture. Please ask any questions in your tutorial class or on the course forum."
   ]
  },
  {
   "cell_type": "markdown",
   "metadata": {},
   "source": [
    "## Quickies"
   ]
  },
  {
   "cell_type": "markdown",
   "metadata": {},
   "source": [
    "Please try to answer the following questions *before* without running any code. Only do so to verify your answer."
   ]
  },
  {
   "cell_type": "markdown",
   "metadata": {},
   "source": [
    "- What is the output of the following code:\n",
    "  ```python\n",
    "  s = \"Jane Doe\"\n",
    "    \n",
    "  print(s[1], s[2:6], s[-1])\n",
    "  print(s[20])    \n",
    "  ```\n",
    "\n",
    "- What is the output of the following code:\n",
    "  ```python\n",
    "  n = 12345\n",
    "  s = 0\n",
    "\n",
    "  for c in str(n):\n",
    "      s = s + int(c)\n",
    "    \n",
    "  print(s)    \n",
    "  ```\n",
    "\n",
    "  **Note:** The function `int` converts a string to an integer number (if possible).\n",
    "  \n",
    "- What is the output of the following code:\n",
    "  ```python\n",
    "  n = 12345\n",
    "  s = \"\"\n",
    "\n",
    "  for c in str(n):\n",
    "      s = s + c\n",
    "    \n",
    "  print(s)    \n",
    "  ```\n",
    " "
   ]
  },
  {
   "cell_type": "code",
   "execution_count": null,
   "metadata": {},
   "outputs": [],
   "source": [
    "# You can use this cell for tests"
   ]
  },
  {
   "cell_type": "markdown",
   "metadata": {},
   "source": [
    "## Multiplication tables"
   ]
  },
  {
   "cell_type": "markdown",
   "metadata": {},
   "source": [
    "The following code prints out a multiplication table"
   ]
  },
  {
   "cell_type": "code",
   "execution_count": null,
   "metadata": {},
   "outputs": [],
   "source": [
    "i = 1\n",
    "\n",
    "while i <= 10:\n",
    "    j = 1\n",
    "    while j <= 10:\n",
    "        # Note the 'end'-parameter in teh follwing print-statement\n",
    "        # What does it do?\n",
    "        print(i * j, end=\" \")\n",
    "        j = j + 1\n",
    "    i = i + 1\n",
    "    print() # just print a newline"
   ]
  },
  {
   "cell_type": "markdown",
   "metadata": {},
   "source": [
    "Modify the code so that the following form of the table is printed.\n",
    "\n",
    "**Hint:** f-strings"
   ]
  },
  {
   "cell_type": "markdown",
   "metadata": {},
   "source": [
    "```\n",
    "001 002 003 004 005 006 007 008 009 010 \n",
    "002 004 006 008 010 012 014 016 018 020 \n",
    "003 006 009 012 015 018 021 024 027 030 \n",
    "004 008 012 016 020 024 028 032 036 040 \n",
    "005 010 015 020 025 030 035 040 045 050 \n",
    "006 012 018 024 030 036 042 048 054 060 \n",
    "007 014 021 028 035 042 049 056 063 070 \n",
    "008 016 024 032 040 048 056 064 072 080 \n",
    "009 018 027 036 045 054 063 072 081 090 \n",
    "010 020 030 040 050 060 070 080 090 100\n",
    "```"
   ]
  },
  {
   "cell_type": "markdown",
   "metadata": {},
   "source": [
    "## Task 8 of Project Euler"
   ]
  },
  {
   "cell_type": "markdown",
   "metadata": {},
   "source": [
    "[Project Euler](https://projecteuler.net) is a great source for programming tasks at all levels. Please solve [problem 8](https://projecteuler.net/problem=8) which is a great application for operations with the Python string type.\n",
    "\n",
    "**Hint:** The second `Quickie`-task of this notebook shows you how to calculates the crosssum of an integer number. For this problem, a similar code-block to obtain the  `cross_product` of an integer will come in very handy."
   ]
  },
  {
   "cell_type": "code",
   "execution_count": null,
   "metadata": {},
   "outputs": [],
   "source": [
    "# your solution here\n",
    "\n",
    "# The variable 'number' below contains the 1000-digit\n",
    "# number of the Euler-problem as a string\n",
    "\n",
    "number = \"\"\"\n",
    "73167176531330624919225119674426574742355349194934\n",
    "96983520312774506326239578318016984801869478851843\n",
    "85861560789112949495459501737958331952853208805511\n",
    "12540698747158523863050715693290963295227443043557\n",
    "66896648950445244523161731856403098711121722383113\n",
    "62229893423380308135336276614282806444486645238749\n",
    "30358907296290491560440772390713810515859307960866\n",
    "70172427121883998797908792274921901699720888093776\n",
    "65727333001053367881220235421809751254540594752243\n",
    "52584907711670556013604839586446706324415722155397\n",
    "53697817977846174064955149290862569321978468622482\n",
    "83972241375657056057490261407972968652414535100474\n",
    "82166370484403199890008895243450658541227588666881\n",
    "16427171479924442928230863465674813919123162824586\n",
    "17866458359124566529476545682848912883142607690042\n",
    "24219022671055626321111109370544217506941658960408\n",
    "07198403850962455444362981230987879927244284909188\n",
    "84580156166097919133875499200524063689912560717606\n",
    "05886116467109405077541002256983155200055935729725\n",
    "71636269561882670428252483600823257530420752963450\n",
    "\"\"\""
   ]
  }
 ],
 "metadata": {
  "kernelspec": {
   "display_name": "Python 3",
   "language": "python",
   "name": "python3"
  },
  "language_info": {
   "codemirror_mode": {
    "name": "ipython",
    "version": 3
   },
   "file_extension": ".py",
   "mimetype": "text/x-python",
   "name": "python",
   "nbconvert_exporter": "python",
   "pygments_lexer": "ipython3",
   "version": "3.7.7"
  }
 },
 "nbformat": 4,
 "nbformat_minor": 4
}
