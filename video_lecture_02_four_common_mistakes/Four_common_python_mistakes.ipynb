{
 "cells": [
  {
   "cell_type": "markdown",
   "metadata": {},
   "source": [
    "# Four common Python mistakes"
   ]
  },
  {
   "cell_type": "markdown",
   "metadata": {},
   "source": [
    "In this video lecture we look at four common Python mistakes that beginners often run into. We would like you to know and to be able to avoid them!"
   ]
  },
  {
   "cell_type": "markdown",
   "metadata": {},
   "source": [
    "## Tabs and Spaces"
   ]
  },
  {
   "cell_type": "markdown",
   "metadata": {},
   "source": [
    "This topic was already treated in the exercises!\n",
    "\n",
    "Beginners often run into this issue until they setup a proper development environment.\n",
    "\n",
    "You cannot mix `Tabs` and `Spaces` to indent Pythob blocks!\n",
    "\n",
    "Ensure that **your texteditor converts a `<TAB>`-key into four spaces!** to avoid all issues! Good editors also can visualise `<TAB>s` in a text file."
   ]
  },
  {
   "cell_type": "markdown",
   "metadata": {},
   "source": [
    "## Refrain from `from XXX import *`"
   ]
  },
  {
   "cell_type": "markdown",
   "metadata": {},
   "source": [
    "There are several ways to import a module"
   ]
  },
  {
   "cell_type": "code",
   "execution_count": null,
   "metadata": {},
   "outputs": [],
   "source": [
    "# simple import\n",
    "import numpy\n",
    "\n",
    "print(numpy.sin(1.0))"
   ]
  },
  {
   "cell_type": "code",
   "execution_count": null,
   "metadata": {},
   "outputs": [],
   "source": [
    "# import with alias for long import names\n",
    "import numpy as np\n",
    "\n",
    "print(np.sin(1.0))"
   ]
  },
  {
   "cell_type": "code",
   "execution_count": null,
   "metadata": {},
   "outputs": [],
   "source": [
    "# transfer all contents of a module to current name-space\n",
    "# often shown in examples but NEVER EVER do it!\n",
    "from numpy import *\n",
    "\n",
    "print(sin(1.0))"
   ]
  },
  {
   "cell_type": "markdown",
   "metadata": {},
   "source": [
    "Problems occur when you have objects with the same name in different modules"
   ]
  },
  {
   "cell_type": "code",
   "execution_count": null,
   "metadata": {},
   "outputs": [],
   "source": [
    "# Here how you should do it\n",
    "import numpy as np\n",
    "import scipy as sp\n",
    "\n",
    "print(np.sqrt(2.0))\n",
    "print(sp.sqrt(2.0))"
   ]
  },
  {
   "cell_type": "code",
   "execution_count": null,
   "metadata": {},
   "outputs": [],
   "source": [
    "# What happens in the following:\n",
    "from scipy import *\n",
    "from numpy import *\n",
    "\n",
    "print(sqrt(-2.0))b"
   ]
  },
  {
   "cell_type": "markdown",
   "metadata": {},
   "source": [
    "The latest import is relevant!"
   ]
  },
  {
   "cell_type": "markdown",
   "metadata": {},
   "source": [
    "## Overwriting built-ins"
   ]
  },
  {
   "cell_type": "markdown",
   "metadata": {},
   "source": [
    "In Python, you can overwrite *everything*."
   ]
  },
  {
   "cell_type": "code",
   "execution_count": null,
   "metadata": {},
   "outputs": [],
   "source": [
    "# The function 'min' can give the minimum of a sequence of numers\n",
    "min(4,5,2,7,12)"
   ]
  },
  {
   "cell_type": "code",
   "execution_count": null,
   "metadata": {},
   "outputs": [],
   "source": [
    "# code to determine the smaller number of two ints\n",
    "a = 5\n",
    "b = 3\n",
    "\n",
    "if a < b:\n",
    "    smallest = a\n",
    "else:\n",
    "    smallest = b\n",
    "    \n",
    "print(smallest)    "
   ]
  },
  {
   "cell_type": "code",
   "execution_count": null,
   "metadata": {},
   "outputs": [],
   "source": [
    "min(4,5,2,7,12)"
   ]
  },
  {
   "cell_type": "markdown",
   "metadata": {},
   "source": [
    "Populat builtins for this problem are: `abs`, `min`, `max` and `sum`."
   ]
  },
  {
   "cell_type": "code",
   "execution_count": null,
   "metadata": {},
   "outputs": [],
   "source": [
    "# information on all built-ins is contained in the 'builtins'-module\n",
    "import builtins\n",
    "\n",
    "print(dir(builtins))"
   ]
  },
  {
   "cell_type": "markdown",
   "metadata": {},
   "source": [
    "# File with a module name in working directory"
   ]
  },
  {
   "cell_type": "code",
   "execution_count": null,
   "metadata": {},
   "outputs": [],
   "source": [
    "%%writefile numpy.py\n",
    "# The line '%%writefile numpy.py' saves the contents of this cell\n",
    "# to a file 'numpy.py' (current directory) instead of executing its\n",
    "# contents.\n",
    "\n",
    "import sys\n",
    "import numpy as np\n",
    "\n",
    "def my_sqrt(x, eps):\n",
    "    \"\"\"\n",
    "    estimate the square root of x up to a given\n",
    "    accuracy eps.\n",
    "    \"\"\"\n",
    "    a = 0.\n",
    "    b = x \n",
    "    middle = (a + b) / 2.\n",
    "    \n",
    "    n = 0\n",
    "    while (b - a) > eps and n < 1000:\n",
    "        if (middle**2) < x:\n",
    "            a = (a + b) / 2.\n",
    "        else:\n",
    "            b = (a + b) / 2.\n",
    "\n",
    "        middle = (a + b) / 2.\n",
    "        n = n + 1\n",
    "\n",
    "    if n == 1000:\n",
    "        print(\"This should not happen!\", file=sys.stderr)\n",
    "        return None\n",
    "\n",
    "    return middle\n",
    "   \n",
    "if __name__ == \"__main__\":    \n",
    "    our_est = my_sqrt(2.0, 1.0e-6)\n",
    "    numpy_est = np.sqrt(2.0)\n",
    "\n",
    "    print(our_est, numpy_est - our_est)"
   ]
  },
  {
   "cell_type": "markdown",
   "metadata": {},
   "source": [
    "Please restart the kernel `after` you created the file `numpy.py` with the cell above and *before* you execute the following cell."
   ]
  },
  {
   "cell_type": "code",
   "execution_count": null,
   "metadata": {},
   "outputs": [],
   "source": [
    "import numpy as np\n",
    "\n",
    "# If there is a file 'numpy.py' in your current directory, the function sin is probably not defined!\n",
    "print(np.sin(1.0))"
   ]
  },
  {
   "cell_type": "code",
   "execution_count": null,
   "metadata": {},
   "outputs": [],
   "source": [
    "dir(np)"
   ]
  },
  {
   "cell_type": "code",
   "execution_count": null,
   "metadata": {},
   "outputs": [],
   "source": []
  }
 ],
 "metadata": {
  "kernelspec": {
   "display_name": "Python 3",
   "language": "python",
   "name": "python3"
  },
  "language_info": {
   "codemirror_mode": {
    "name": "ipython",
    "version": 3
   },
   "file_extension": ".py",
   "mimetype": "text/x-python",
   "name": "python",
   "nbconvert_exporter": "python",
   "pygments_lexer": "ipython3",
   "version": "3.7.3"
  }
 },
 "nbformat": 4,
 "nbformat_minor": 4
}
