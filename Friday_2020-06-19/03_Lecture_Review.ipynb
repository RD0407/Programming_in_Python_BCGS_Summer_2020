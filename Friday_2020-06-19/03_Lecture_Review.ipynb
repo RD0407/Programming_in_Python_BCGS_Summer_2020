{
 "cells": [
  {
   "cell_type": "markdown",
   "metadata": {},
   "source": [
    "# Wednesday, 20/06/2018: Review questions\n",
    "Here some review questions and (simple) exercises for the material that we covered in class. They should help you to identify topics that you should further reivew with the literature or the Internet.\n",
    "\n",
    "Please feel free to e-mail Aakash or myself for any questions you might have!"
   ]
  },
  {
   "cell_type": "markdown",
   "metadata": {},
   "source": [
    "## Please try to answer the following question before executing any code."
   ]
  },
  {
   "cell_type": "markdown",
   "metadata": {},
   "source": [
    "- What is the output of the follwing code? If the code produces an error, then correct it:\n",
    "  ```\n",
    "  def do_twice(f):\n",
    "      f()\n",
    "      f()\n",
    "      return None\n",
    "      \n",
    "  def print_name():\n",
    "      print('Thomas')\n",
    "      \n",
    "      return None\n",
    "      \n",
    "  do_twice(print_name())    \n",
    "  ```"
   ]
  },
  {
   "cell_type": "markdown",
   "metadata": {},
   "source": [
    "## Simple fitting and result verification"
   ]
  },
  {
   "cell_type": "markdown",
   "metadata": {},
   "source": [
    "We look at a [(fake) dataset](data/decay_data.txt) showing the rate of detection of alpha particles close to a radioactive sample, which we will call element X. The rate of detection of alpha particles is measured at 100 different times (given by the first column, in days since the start of the experiment), and for each of these times, both the rate of detection and the uncertainty in the rate of detection are given (in the second and third columns, in detections per second).\n",
    "\n",
    "- Plot the rate of detection versus time, including error bars \n",
    "- The rate of decay of a radioactive element is (theoretically) given by:\n",
    "\\begin{equation}\n",
    "  R(t) = A{\\rm e}^{-t/\\tau},\n",
    "\\end{equation}\n",
    "  where $A$ is the rate of decay at time $t=0$, and $\\tau$ is the  *mean lifetime* of the element. Perform a fit of this function to the data and overplot the resulting best-fit function over the data. $A$ and $\\tau$ are the fit parameters of your model. Is the fit good?\n",
    "- We want to consider a constant background due to possible background radiation in our model:\n",
    "\\begin{equation}\n",
    "  R_{\\rm bg}(t) = A{\\rm e}^{-t/\\tau} + B\n",
    "\\end{equation}\n",
    "  Fit this new model (three fit paramters!) to the data and overplot the new best-fit model to the data.\n",
    "-   One way to quantify the *goodness* of a fit is to consider the reduced $\\chi^2$ value of the fit, defined as:\n",
    "\\begin{equation}\n",
    "  \\chi_{\\rm red}^2 = \\frac{1}{N - p - 1}\\sum_{i=1}^{N}~    \\left(\\frac{y_i - m_i}{\\sigma_i}\\right)^2\n",
    "\\end{equation}\n",
    "  where $N$ is the number of datapoints, $p$ is the number of parameters for the model, $y_i$ are the data values, $m_i$ are the model values at the same positions, and $\\sigma_i$ are the uncertainties on the data $y_i$. A fit is considered to be good if $\\chi_{\\rm red}^2 \\approx 1$. Compute $\\chi_{\\rm red}^2$ for both models above."
   ]
  }
 ],
 "metadata": {
  "kernelspec": {
   "display_name": "Python 3",
   "language": "python",
   "name": "python3"
  },
  "language_info": {
   "codemirror_mode": {
    "name": "ipython",
    "version": 3
   },
   "file_extension": ".py",
   "mimetype": "text/x-python",
   "name": "python",
   "nbconvert_exporter": "python",
   "pygments_lexer": "ipython3",
   "version": "3.7.7"
  }
 },
 "nbformat": 4,
 "nbformat_minor": 4
}
