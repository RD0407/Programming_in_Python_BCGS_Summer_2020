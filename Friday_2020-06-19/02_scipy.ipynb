{
 "cells": [
  {
   "cell_type": "markdown",
   "metadata": {},
   "source": [
    "# Scipy - scientific library for Python\n"
   ]
  },
  {
   "cell_type": "markdown",
   "metadata": {},
   "source": [
    "`scipy` is built on top of the `numpy` framework for multidimensional arrays, and provides a large number of higher-level scientific algorithms. Some of the topics that SciPy covers are:\n",
    "\n",
    "* Special functions ([scipy.special](http://docs.scipy.org/doc/scipy/reference/special.html))\n",
    "* Integration ([scipy.integrate](http://docs.scipy.org/doc/scipy/reference/integrate.html))\n",
    "* Optimization ([scipy.optimize](http://docs.scipy.org/doc/scipy/reference/optimize.html))\n",
    "* Interpolation ([scipy.interpolate](http://docs.scipy.org/doc/scipy/reference/interpolate.html))\n",
    "* Fourier Transforms ([scipy.fftpack](http://docs.scipy.org/doc/scipy/reference/fftpack.html))\n",
    "* Signal Processing ([scipy.signal](http://docs.scipy.org/doc/scipy/reference/signal.html))\n",
    "* Linear Algebra ([scipy.linalg](http://docs.scipy.org/doc/scipy/reference/linalg.html))\n",
    "* Sparse Eigenvalue Problems ([scipy.sparse](http://docs.scipy.org/doc/scipy/reference/sparse.html))\n",
    "* Statistics ([scipy.stats](http://docs.scipy.org/doc/scipy/reference/stats.html))\n",
    "* Multi-dimensional image processing ([scipy.ndimage](http://docs.scipy.org/doc/scipy/reference/ndimage.html))\n",
    "* File IO ([scipy.io](http://docs.scipy.org/doc/scipy/reference/io.html))\n",
    "\n",
    "Each of these submodules provides a number of functions and classes that can be used to solve problems in their respective topics.\n"
   ]
  },
  {
   "cell_type": "markdown",
   "metadata": {},
   "source": [
    "## Special functions\n",
    "Scipy implements a large amount of *special functions* (Bessel function,\n",
    "Airy function, orthogonal polynomials, ...) for numneric calculations. They can be used as functions within `numpy`."
   ]
  },
  {
   "cell_type": "code",
   "execution_count": null,
   "metadata": {},
   "outputs": [],
   "source": [
    "%matplotlib inline\n",
    "import matplotlib.pyplot as plt\n",
    "import numpy as np\n",
    "import scipy.special as ss\n",
    "\n",
    "# we plot the n\\in [1..3] Legendre polynomials.\n",
    "#\n",
    "x = np.linspace(-1.0, 1.0, 100)\n",
    "\n",
    "for n in range(1, 4):\n",
    "    y = ss.eval_legendre(n, x)\n",
    "    plt.plot(x, y, label=r\"$L_%d(x)$\" % n)\n",
    "    \n",
    "plt.legend()    "
   ]
  },
  {
   "cell_type": "markdown",
   "metadata": {},
   "source": [
    "## Optimization / Fitting"
   ]
  },
  {
   "cell_type": "markdown",
   "metadata": {},
   "source": [
    "Determining a parametric model $y = m(x; a_0, a_1, \\dots a_n)$, where the $a_i$ are parameters we would like to determine) to given data points\n",
    "$(x_i; y_i \\pm \\Delta y_i);\\; i\\in [1, \\dots, m]$ is called *data-fitting*. Usually the measurements $y_i$ come with some errors $\\Delta y_i$. `Scipy` offers several functions for data fitting and I will show you the simplest one: `curve_fit`. It determines the best fit parameters with the $\\chi^2$-method, i.e. it determines best fit parameters by minimizing the expression:\n",
    "\n",
    "$$\n",
    "\\chi^2 = \\sum_{i=1}^n\\frac{(y_i-m(x_i; a_0, a_1, \\dots a_n))^2}{(\\Delta y_i)^2}\n",
    "$$\n",
    "\n",
    "Please read the [curve_fit documentation](http://docs.scipy.org/doc/scipy/reference/generated/scipy.optimize.curve_fit.html#scipy.optimize.curve_fit) on details (error handling etc.)."
   ]
  },
  {
   "cell_type": "markdown",
   "metadata": {},
   "source": [
    "For demonstration purposes we perform a line fit on some fake data:"
   ]
  },
  {
   "cell_type": "code",
   "execution_count": null,
   "metadata": {},
   "outputs": [],
   "source": [
    "%matplotlib inline\n",
    "import matplotlib.pyplot as plt\n",
    "import numpy as np\n",
    "import numpy.random as nr\n",
    "import scipy.optimize as so\n",
    "\n",
    "# create some fake data and plot them:\n",
    "numpoints = 10 # the number of points we want to simulate\n",
    "t = np.random.uniform(0., 100., numpoints)\n",
    "# The error on each point comes from a normal distribution\n",
    "# with sigma = 10\n",
    "s = 2. * t + 2.6 + np.random.normal(0., 10., numpoints)\n",
    "plt.errorbar(t, s, yerr=10, fmt=\".\")"
   ]
  },
  {
   "cell_type": "code",
   "execution_count": null,
   "metadata": {},
   "outputs": [],
   "source": [
    "def fit_line(t, v, s0):\n",
    "    return v * t + s0\n",
    "\n",
    "# now perform the fit\n",
    "# Please read carefully the documentation to see how errors\n",
    "# are handled. In Physics we typically give absolute errors,\n",
    "# not relative ones!\n",
    "popt, pcov = so.curve_fit(fit_line, t, s,\n",
    "                          sigma = np.ones(y.shape) * 10, absolute_sigma=True)\n",
    "print(popt, pcov)\n",
    "print(f\"v = {popt[0]} +/- {np.sqrt(pcov[0][0])}\")\n",
    "print(f\"s0 = {popt[1]} +/- {np.sqrt(pcov[1][1])}\")\n",
    "\n",
    "t_fit = np.linspace(0.0, 100, 100)\n",
    "s_fit = fit_line(t_fit, *(popt))\n",
    "plt.errorbar(t, s, yerr=10, fmt=\".\")\n",
    "plt.plot(t_fit, s_fit, 'r-')"
   ]
  },
  {
   "cell_type": "markdown",
   "metadata": {},
   "source": [
    "### Careful when the fit parameters seem fine but not the errors"
   ]
  },
  {
   "cell_type": "code",
   "execution_count": null,
   "metadata": {},
   "outputs": [],
   "source": [
    "%matplotlib inline\n",
    "import matplotlib.pyplot as plt\n",
    "import numpy as np\n",
    "import numpy.random as nr\n",
    "import scipy.optimize as so\n",
    "\n",
    "def fit_func(x, c):\n",
    "    return c * np.exp(x)\n",
    "\n",
    "numpoints = 10 # the number of points we want to simulate\n",
    "x = np.random.uniform(-2., 2., numpoints)\n",
    "y = 0.2 * np.exp(x + 5) + np.random.normal(0., 10., numpoints)\n",
    "plt.errorbar(x, y, yerr=10, fmt=\".\")\n",
    "\n",
    "popt, pcov = so.curve_fit(fit_func, x, y,\n",
    "                          sigma = np.ones(y.shape) * 10, absolute_sigma=True)\n",
    "print(popt, pcov)\n",
    "x_fit = np.linspace(-2.0, 2.0, 20)\n",
    "plt.plot(x_fit, fit_func(x_fit, *(popt)), 'r-')"
   ]
  },
  {
   "cell_type": "markdown",
   "metadata": {},
   "source": [
    "### Warning: Do not use `curve_fit` if you have errors in both variables"
   ]
  },
  {
   "cell_type": "code",
   "execution_count": null,
   "metadata": {},
   "outputs": [],
   "source": [
    "%matplotlib inline\n",
    "import matplotlib.pyplot as plt\n",
    "import numpy as np\n",
    "import numpy.random as nr\n",
    "import scipy.optimize as so\n",
    "\n",
    "def fit_line(x, a, b):\n",
    "    return a * x + b\n",
    "\n",
    "# create some fake data with errors in 'both' coordinates and plot them:\n",
    "numpoints = 50 # the number of points we want to simulate\n",
    "x = np.random.uniform(0., 100., numpoints)\n",
    "y = x\n",
    "\n",
    "# add errors in x and y\n",
    "x = x + np.random.normal(0., 10., numpoints)\n",
    "y = y + np.random.normal(0., 10., numpoints)\n",
    "\n",
    "plt.errorbar(x, y, xerr=10, yerr=10, fmt=\".\")\n",
    "\n",
    "# perform a fit as we did before (neglecting errors in x!):\n",
    "popt, pcov = so.curve_fit(fit_line, x, y,\n",
    "                          sigma = np.ones(y.shape) * 10, absolute_sigma=True)\n",
    "plt.plot(x, fit_line(x, *(popt)), 'r-')\n",
    "print(popt, np.sqrt(pcov[0,0]))\n",
    "\n",
    "# now change the roles of x and y and fit again:\n",
    "x1, y1 = y, x\n",
    "popt, pcov = so.curve_fit(fit_line, x1, y1,\n",
    "                          sigma = np.ones(y.shape) * 10, absolute_sigma=True)\n",
    "plt.plot(x1, fit_line(x1, *(popt)), 'g-')\n",
    "print(popt)\n",
    "# Note that you do not get the 'inverse' of the first fit as you might expect!"
   ]
  },
  {
   "cell_type": "markdown",
   "metadata": {},
   "source": [
    "For fits with errors in $x$ and $y$ you have to use other methods such as *Orthogonal distance regression*. I give you an example script with [chi2FitXYErr.py](code/chi2FitXYErr.py)."
   ]
  },
  {
   "cell_type": "code",
   "execution_count": null,
   "metadata": {},
   "outputs": [],
   "source": [
    "!cat ./data/dataxy.txt\n",
    "!cat ./data/dataxy_reversed.txt"
   ]
  },
  {
   "cell_type": "code",
   "execution_count": null,
   "metadata": {},
   "outputs": [],
   "source": [
    "%run ./code/chi2FitXYErr.py -i ./data/dataxy.txt"
   ]
  },
  {
   "cell_type": "code",
   "execution_count": null,
   "metadata": {},
   "outputs": [],
   "source": [
    "# The fit-result from the reversed data set also gives a 'inverse' line!\n",
    "%run ./code/chi2FitXYErr.py -i ./data/dataxy_reversed.txt"
   ]
  },
  {
   "cell_type": "markdown",
   "metadata": {},
   "source": [
    "## Another view on the linear fitting problem (relevant for Project 3)"
   ]
  },
  {
   "cell_type": "code",
   "execution_count": null,
   "metadata": {},
   "outputs": [],
   "source": [
    "%matplotlib inline\n",
    "import matplotlib.pyplot as plt\n",
    "import numpy as np\n",
    "import scipy.optimize as so\n",
    "\n",
    "# we want to estimate parameters s0 and v from\n",
    "# s = s0 + v * t\n",
    "def car(t, s0, v):\n",
    "    return s0 + v * t\n",
    "\n",
    "t = np.array([1, 2, 3, 4])\n",
    "s = np.array([1, 2, 2, 5])\n",
    "\n",
    "plt.plot(t, s, marker=\"o\", linestyle=\"\")\n",
    "\n",
    "popt, pcov = so.curve_fit(car, t, s, absolute_sigma=True)\n",
    "print(popt, pcov)\n",
    "\n",
    "t_plot = np.linspace(0.0, 5.0, 10)\n",
    "s_plot = car(t_plot, *popt)\n",
    "\n",
    "plt.plot(t_plot, s_plot)"
   ]
  }
 ],
 "metadata": {
  "kernelspec": {
   "display_name": "Python 3",
   "language": "python",
   "name": "python3"
  },
  "language_info": {
   "codemirror_mode": {
    "name": "ipython",
    "version": 3
   },
   "file_extension": ".py",
   "mimetype": "text/x-python",
   "name": "python",
   "nbconvert_exporter": "python",
   "pygments_lexer": "ipython3",
   "version": "3.7.7"
  }
 },
 "nbformat": 4,
 "nbformat_minor": 4
}
